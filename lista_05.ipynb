{
 "cells": [
  {
   "cell_type": "code",
   "execution_count": null,
   "metadata": {},
   "outputs": [],
   "source": [
    "# lista_05\n",
    "import numpy as np\n",
    "import matplotlib.pyplot as plt\n",
    "import matplotlib.patches as mpatches\n",
    "import matplotlib.lines as mlines\n",
    "from scipy.interpolate import interp1d"
   ]
  },
  {
   "cell_type": "markdown",
   "metadata": {},
   "source": [
    "### Exercicio 01\n",
    "\n"
   ]
  },
  {
   "cell_type": "code",
   "execution_count": null,
   "metadata": {},
   "outputs": [],
   "source": [
    "#criar função de aproximação de linha por pontos dados\n",
    "\n",
    "def R(x):\n",
    " 1.0/(1.0 + 25.0*x**2)\n",
    "\n",
    "xi = np.array([])\n",
    "yi= R(xi)\n",
    "\n",
    "# Define a set of points to evaluate the functions\n",
    "xeval = np.linspace(-5, 5, 2000)\n",
    "yeval = Runge(xeval)\n",
    "# Compute the piecewise liner polynomial\n",
    "ylin = interp1d(xi, yi, kind=’linear’)\n",
    "# Plot everything\n",
    "plt.plot(xi, yi, ’ob’,\n",
    "xeval, yeval, ’-r’,\n",
    "xeval, ylin(xeval), ’-g’)"
   ]
  }
 ],
 "metadata": {
  "language_info": {
   "name": "python"
  }
 },
 "nbformat": 4,
 "nbformat_minor": 2
}
