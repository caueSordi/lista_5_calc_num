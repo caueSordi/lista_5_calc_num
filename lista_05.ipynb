{
 "cells": [
  {
   "cell_type": "code",
   "execution_count": 10,
   "metadata": {},
   "outputs": [],
   "source": [
    "# lista_05\n",
    "import numpy as np\n",
    "import matplotlib.pyplot as plt\n",
    "import matplotlib.patches as mpatches\n",
    "import matplotlib.lines as mlines\n",
    "import scipy as scp\n",
    "import scipy.integrate as integrate\n",
    "from scipy.interpolate import interp1d"
   ]
  },
  {
   "cell_type": "markdown",
   "metadata": {},
   "source": [
    "### Exercicio 01\n",
    "\n"
   ]
  },
  {
   "cell_type": "code",
   "execution_count": 11,
   "metadata": {},
   "outputs": [],
   "source": [
    "\n",
    "\n",
    "\n",
    "def phi( x, lista_X):\n",
    " p_0 = ((x-lista_X[1])*(x-lista_X[2]))/((lista_X[0]-lista_X[1])*(lista_X[0]-lista_X[2]))\n",
    " p_1 = ((x-lista_X[0])*(x-lista_X[2]))/((lista_X[1]-lista_X[0])*(lista_X[1]-lista_X[2]))\n",
    " p_2 = ((x-lista_X[0])*(x-lista_X[1]))/((lista_X[2]-lista_X[0])*(lista_X[2]-lista_X[1]))\n",
    " return p_0, p_1, p_2\n",
    "\n",
    "def interpolacao( x,y):\n",
    " x_0= phi(x[0],x)\n",
    " x_1= phi(x[1],x)\n",
    " x_2= phi(x[2],x)\n",
    "\n",
    " A= np.matrix([[x_0[0],x_0[1],x_0[2]],[x_1[0],x_1[1],x_1[2]],[x_2[0],x_2[1],x_2[2]]])\n",
    " linearizada = np.linalg.solve(A,y)\n",
    " return linearizada\n",
    "\n",
    "def solucao( x, list_p, linearizada, tamanho):\n",
    "    soma=0\n",
    "    for i in range(tamanho):\n",
    "        soma+= list_p[i]*linearizada[i]\n",
    "    return soma"
   ]
  },
  {
   "cell_type": "code",
   "execution_count": 12,
   "metadata": {},
   "outputs": [
    {
     "name": "stdout",
     "output_type": "stream",
     "text": [
      "[14. 24. 25.]\n",
      "14.0\n"
     ]
    }
   ],
   "source": [
    "P_x = [2,6,4]\n",
    "P_y = [14,24,25]\n",
    "\n",
    "q = interpolacao(P_x,P_y)\n",
    "print(q)\n",
    "\n",
    "x=2\n",
    "size = len(P_x)\n",
    "\n",
    "list_p =phi(x,P_x)\n",
    "soma = solucao(x,list_p,q,size)\n",
    "\n",
    "print(soma)\n"
   ]
  },
  {
   "cell_type": "markdown",
   "metadata": {},
   "source": [
    "### Exercicio 2\n"
   ]
  },
  {
   "cell_type": "code",
   "execution_count": null,
   "metadata": {},
   "outputs": [],
   "source": []
  }
 ],
 "metadata": {
  "kernelspec": {
   "display_name": "Python 3",
   "language": "python",
   "name": "python3"
  },
  "language_info": {
   "codemirror_mode": {
    "name": "ipython",
    "version": 3
   },
   "file_extension": ".py",
   "mimetype": "text/x-python",
   "name": "python",
   "nbconvert_exporter": "python",
   "pygments_lexer": "ipython3",
   "version": "3.12.3"
  }
 },
 "nbformat": 4,
 "nbformat_minor": 2
}
